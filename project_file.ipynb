{
  "nbformat": 4,
  "nbformat_minor": 0,
  "metadata": {
    "colab": {
      "private_outputs": true,
      "provenance": []
    },
    "kernelspec": {
      "name": "python3",
      "display_name": "Python 3"
    },
    "language_info": {
      "name": "python"
    }
  },
  "cells": [
    {
      "cell_type": "markdown",
      "source": [
        "# Importing Libraries"
      ],
      "metadata": {
        "id": "bSxHChRQjx8b"
      }
    },
    {
      "cell_type": "code",
      "source": [
        "import numpy as np\n",
        "import pandas as pd\n",
        "import seaborn as sns\n",
        "import matplotlib.pyplot as plt"
      ],
      "metadata": {
        "id": "MqPs4YjCYzJT"
      },
      "execution_count": null,
      "outputs": []
    },
    {
      "cell_type": "markdown",
      "source": [
        "# Setup & Data Loading"
      ],
      "metadata": {
        "id": "-7StVB9wCNIQ"
      }
    },
    {
      "cell_type": "code",
      "execution_count": null,
      "metadata": {
        "id": "22dj2jxxWTPo"
      },
      "outputs": [],
      "source": [
        "try:\n",
        "  df = pd.read_csv('Amazon Sale Report.csv', encoding='latin1') # Try 'latin1'\n",
        "except UnicodeDecodeError:\n",
        "  try:\n",
        "    df = pd.read_csv('Amazon Sale Report.csv', encoding='iso-8859-1') # Try 'iso-8859-1'\n",
        "  except UnicodeDecodeError:\n",
        "    df = pd.read_csv('Amazon Sale Report.csv', encoding='cp1252')\n",
        "df.head()"
      ]
    },
    {
      "cell_type": "markdown",
      "source": [
        "# Data Overview & Cleaning\n"
      ],
      "metadata": {
        "id": "guQnmKyGtrQG"
      }
    },
    {
      "cell_type": "code",
      "source": [
        "df.shape"
      ],
      "metadata": {
        "id": "tKt1C5lqaAdE"
      },
      "execution_count": null,
      "outputs": []
    },
    {
      "cell_type": "code",
      "source": [
        "df.columns"
      ],
      "metadata": {
        "id": "I2CBDjgWDCkt"
      },
      "execution_count": null,
      "outputs": []
    },
    {
      "cell_type": "code",
      "source": [
        "df.isna().sum()"
      ],
      "metadata": {
        "id": "5FRx5_OrDM7N"
      },
      "execution_count": null,
      "outputs": []
    },
    {
      "cell_type": "code",
      "source": [
        "df.info()"
      ],
      "metadata": {
        "id": "Dja1yy-8aGlc"
      },
      "execution_count": null,
      "outputs": []
    },
    {
      "cell_type": "code",
      "source": [
        "len(df)"
      ],
      "metadata": {
        "id": "ypLiaGYfD2lo"
      },
      "execution_count": null,
      "outputs": []
    },
    {
      "cell_type": "code",
      "source": [
        "df.head()"
      ],
      "metadata": {
        "id": "hl2tU1isaVml"
      },
      "execution_count": null,
      "outputs": []
    },
    {
      "cell_type": "code",
      "source": [
        "del df['New']"
      ],
      "metadata": {
        "id": "HPdyQlCjNU6k"
      },
      "execution_count": null,
      "outputs": []
    },
    {
      "cell_type": "code",
      "source": [
        "del df['PendingS']"
      ],
      "metadata": {
        "id": "jsQMCMXMOS41"
      },
      "execution_count": null,
      "outputs": []
    },
    {
      "cell_type": "code",
      "source": [
        "df.info()"
      ],
      "metadata": {
        "id": "9zIiHp_fOPyw"
      },
      "execution_count": null,
      "outputs": []
    },
    {
      "cell_type": "code",
      "source": [
        "df['fulfilled-by']=df['fulfilled-by'].fillna(\"others\")"
      ],
      "metadata": {
        "id": "K8nAP45nOaHA"
      },
      "execution_count": null,
      "outputs": []
    },
    {
      "cell_type": "code",
      "source": [
        "df['currency']=df['currency'].fillna(\"INR\")"
      ],
      "metadata": {
        "id": "GCnhDd-iQ1Pn"
      },
      "execution_count": null,
      "outputs": []
    },
    {
      "cell_type": "code",
      "source": [
        "df['Amount']=df['Amount'].fillna(np.random.choice(df['Amount']))"
      ],
      "metadata": {
        "id": "f3-4GHd4Rmb6"
      },
      "execution_count": null,
      "outputs": []
    },
    {
      "cell_type": "code",
      "source": [
        "df=df.dropna()"
      ],
      "metadata": {
        "id": "XGVZ_DxAUF7a"
      },
      "execution_count": null,
      "outputs": []
    },
    {
      "cell_type": "code",
      "source": [
        "df.isna().sum()"
      ],
      "metadata": {
        "id": "G28-WLevRYt-"
      },
      "execution_count": null,
      "outputs": []
    },
    {
      "cell_type": "code",
      "source": [
        "df.info()"
      ],
      "metadata": {
        "id": "gLZWN75FPnSc"
      },
      "execution_count": null,
      "outputs": []
    },
    {
      "cell_type": "code",
      "source": [
        "df.isna().sum()"
      ],
      "metadata": {
        "id": "1O-htHsIPzGS"
      },
      "execution_count": null,
      "outputs": []
    },
    {
      "cell_type": "code",
      "source": [
        "df['Order ID'] = df['Order ID'].str.replace(\"S\", \"5\", regex=False)"
      ],
      "metadata": {
        "id": "1P2a7S9ngPSi"
      },
      "execution_count": null,
      "outputs": []
    },
    {
      "cell_type": "code",
      "source": [
        "df['Order ID'] = df['Order ID'].str.replace(\"-\", \"\", regex=False).astype(int)"
      ],
      "metadata": {
        "id": "mBL7feF3cjt8"
      },
      "execution_count": null,
      "outputs": []
    },
    {
      "cell_type": "code",
      "source": [
        "df.info()"
      ],
      "metadata": {
        "id": "AXvdZ-GsgpHa"
      },
      "execution_count": null,
      "outputs": []
    },
    {
      "cell_type": "code",
      "source": [
        "df['Date'].value_counts()"
      ],
      "metadata": {
        "id": "_wHGu5cliGS7"
      },
      "execution_count": null,
      "outputs": []
    },
    {
      "cell_type": "code",
      "source": [
        "df['Date'] = pd.to_datetime(df['Date'], errors=\"coerce\", infer_datetime_format=True)\n",
        "df['Date']"
      ],
      "metadata": {
        "id": "WJGf6IZxm6ra"
      },
      "execution_count": null,
      "outputs": []
    },
    {
      "cell_type": "code",
      "source": [
        "df.info()"
      ],
      "metadata": {
        "id": "0j9jJ_dhncdd"
      },
      "execution_count": null,
      "outputs": []
    },
    {
      "cell_type": "code",
      "source": [
        "df[\"ship-postal-code\"].value_counts()"
      ],
      "metadata": {
        "id": "sM3XEYDCpBHe"
      },
      "execution_count": null,
      "outputs": []
    },
    {
      "cell_type": "code",
      "source": [
        "df[\"ship-postal-code\"] = df[\"ship-postal-code\"].fillna(0).astype(int)"
      ],
      "metadata": {
        "id": "WWD4cTSpoW3F"
      },
      "execution_count": null,
      "outputs": []
    },
    {
      "cell_type": "code",
      "source": [
        "df.info()"
      ],
      "metadata": {
        "id": "SNq8JEjBqEH0"
      },
      "execution_count": null,
      "outputs": []
    },
    {
      "cell_type": "code",
      "source": [
        "df[\"Year\"] = df[\"Date\"].dt.year\n",
        "df[\"Month\"] = df[\"Date\"].dt.month\n",
        "df[\"Day\"] = df[\"Date\"].dt.day"
      ],
      "metadata": {
        "id": "1MWJK_5UtYl4"
      },
      "execution_count": null,
      "outputs": []
    },
    {
      "cell_type": "code",
      "source": [
        "df.info()"
      ],
      "metadata": {
        "id": "V4lWFzO4tZ5W"
      },
      "execution_count": null,
      "outputs": []
    },
    {
      "cell_type": "markdown",
      "source": [
        "# KPI"
      ],
      "metadata": {
        "id": "tRoRTDtet6ty"
      }
    },
    {
      "cell_type": "code",
      "source": [
        "import numpy as np\n",
        "import pandas as pd\n",
        "\n",
        "kpi = {}\n",
        "kpi[\"date_range_start\"] = df[\"Date\"].min()\n",
        "kpi[\"date_range_end\"] = df[\"Date\"].max()\n",
        "kpi[\"total_orders\"] = len(df)\n",
        "kpi[\"total_units\"] = df[\"Qty\"].sum()\n",
        "kpi[\"gross_revenue\"] = df[\"Amount\"].sum()\n",
        "kpi[\"avg_order_value\"] = (df[\"Amount\"].sum() / df[\"Qty\"].sum()) if df[\"Qty\"].sum() else np.nan\n",
        "\n",
        "# Cancellation/Return metrics if Status exists\n",
        "if \"Status\" in df.columns:\n",
        "    status_counts = df[\"Status\"].value_counts(dropna=False)\n",
        "    kpi[\"status_counts\"] = status_counts.to_dict()\n",
        "    # Consider these as \"non-fulfilled\" samples\n",
        "    cancel_like = df[\"Status\"].str.lower().isin(\n",
        "        [\"cancelled\", \"canceled\", \"return initiated\", \"returned\"]\n",
        "    )\n",
        "    kpi[\"cancel_return_rate_%\"] = round(cancel_like.mean() * 100, 2)\n",
        "else:\n",
        "    kpi[\"status_counts\"] = {}\n",
        "    kpi[\"cancel_return_rate_%\"] = np.nan\n",
        "\n",
        "# Convert KPI dict into a DataFrame\n",
        "pd.DataFrame([kpi])"
      ],
      "metadata": {
        "id": "NbMsFpZAUtGz"
      },
      "execution_count": null,
      "outputs": []
    },
    {
      "cell_type": "markdown",
      "source": [
        "# Time-Series Trends"
      ],
      "metadata": {
        "id": "2Uy4dTLus4_H"
      }
    },
    {
      "cell_type": "code",
      "source": [
        "df[\"Year\"] = df[\"Date\"].dt.year\n",
        "df[\"Month\"] = df[\"Date\"].dt.to_period(\"M\").astype(str)\n",
        "\n",
        "ts_orders = df.groupby(\"Month\").size().reset_index(name=\"Orders\")\n",
        "ts_units = df.groupby(\"Month\")[\"Qty\"].sum().reset_index(name=\"Units\")\n",
        "ts_revenue = df.groupby(\"Month\")[\"Amount\"].sum().reset_index(name=\"Revenue\")\n",
        "\n",
        "display(ts_orders.head())\n",
        "display(ts_units.head())\n",
        "display(ts_revenue.head())\n",
        "\n",
        "# Plot Orders trend\n",
        "plt.figure(figsize=(12,4))\n",
        "plt.plot(ts_orders[\"Month\"], ts_orders[\"Orders\"], marker=\"o\")\n",
        "plt.title(\"Monthly Orders Trend\")\n",
        "plt.xlabel(\"Month\")\n",
        "plt.ylabel(\"Orders\")\n",
        "plt.xticks(rotation=45)\n",
        "plt.tight_layout()\n",
        "plt.show()\n",
        "\n",
        "# Plot Revenue trend\n",
        "plt.figure(figsize=(12,4))\n",
        "plt.plot(ts_revenue[\"Month\"], ts_revenue[\"Revenue\"], marker=\"o\")\n",
        "plt.title(\"Monthly Revenue Trend\")\n",
        "plt.xlabel(\"Month\")\n",
        "plt.ylabel(\"Revenue\")\n",
        "plt.xticks(rotation=45)\n",
        "plt.tight_layout()\n",
        "plt.show()"
      ],
      "metadata": {
        "id": "pGCHH9vAuidZ"
      },
      "execution_count": null,
      "outputs": []
    },
    {
      "cell_type": "code",
      "source": [
        "df.info()"
      ],
      "metadata": {
        "id": "NFUzLDwKaJNj"
      },
      "execution_count": null,
      "outputs": []
    },
    {
      "cell_type": "markdown",
      "source": [
        "# Category & Size Analysis"
      ],
      "metadata": {
        "id": "w3vnnIy6ubU5"
      }
    },
    {
      "cell_type": "code",
      "source": [
        "import matplotlib.pyplot as plt\n",
        "\n",
        "# Category summary\n",
        "cat_summary = df.groupby(\"Category\").agg(\n",
        "    Orders=(\"Order ID\", \"count\") if \"Order ID\" in df.columns else (\"Qty\", \"size\"),\n",
        "    Units=(\"Qty\", \"sum\"),\n",
        "    Revenue=(\"Amount\", \"sum\"),\n",
        "    AvgSellingPrice=(\"Amount\", \"mean\")\n",
        ").sort_values(\"Revenue\", ascending=False).head(15)\n",
        "\n",
        "display(cat_summary)\n",
        "\n",
        "plt.figure(figsize=(10,5))\n",
        "plt.bar(cat_summary.index.astype(str), cat_summary[\"Revenue\"])\n",
        "plt.title(\"Top Categories by Revenue\")\n",
        "plt.xlabel(\"Category\")\n",
        "plt.ylabel(\"Revenue\")\n",
        "plt.xticks(rotation=45, ha=\"right\")\n",
        "plt.tight_layout()\n",
        "plt.show()\n",
        "\n",
        "# Size analysis (if Size column exists)\n",
        "if \"Size\" in df.columns:\n",
        "    size_summary = df.groupby(\"Size\").agg(\n",
        "        Units=(\"Qty\", \"sum\"),\n",
        "        Revenue=(\"Amount\", \"sum\")\n",
        "    ).sort_values(\"Units\", ascending=False).head(15)\n",
        "    display(size_summary)\n",
        "\n",
        "    plt.figure(figsize=(10,4))\n",
        "    plt.bar(size_summary.index.astype(str), size_summary[\"Units\"])\n",
        "    plt.title(\"Top Sizes by Units Sold\")\n",
        "    plt.xlabel(\"Size\")\n",
        "    plt.ylabel(\"Units\")\n",
        "    plt.xticks(rotation=45, ha=\"right\")\n",
        "    plt.tight_layout()\n",
        "    plt.show()\n"
      ],
      "metadata": {
        "id": "KdSb5aTqq7qy"
      },
      "execution_count": null,
      "outputs": []
    },
    {
      "cell_type": "markdown",
      "source": [
        "# Fulfillment Analysis"
      ],
      "metadata": {
        "id": "zV0PhPOJuyZZ"
      }
    },
    {
      "cell_type": "code",
      "source": [
        "import matplotlib.pyplot as plt\n",
        "import numpy as np\n",
        "\n",
        "if \"fulfilled-by\" in df.columns:\n",
        "    fulf_summary = df.groupby(\"Fulfilment\").agg(\n",
        "        Orders=(\"Order ID\", \"count\") if \"Order ID\" in df.columns else (\"Qty\", \"size\"),\n",
        "        Units=(\"Qty\", \"sum\"),\n",
        "        Revenue=(\"Amount\", \"sum\"),\n",
        "        AvgOrderValue=(\"Amount\", lambda x: x.sum() / (len(x) if len(x) else np.nan))\n",
        "    ).sort_values(\"Revenue\", ascending=False)\n",
        "    display(fulf_summary)\n",
        "\n",
        "    plt.figure(figsize=(8,4))\n",
        "    plt.bar(fulf_summary.index.astype(str), fulf_summary[\"Revenue\"])\n",
        "    plt.title(\"Revenue by Fulfillment Method\")\n",
        "    plt.xlabel(\"Fulfillment\")\n",
        "    plt.ylabel(\"Revenue\")\n",
        "    plt.xticks(rotation=45, ha=\"right\")\n",
        "    plt.tight_layout()\n",
        "    plt.show()\n",
        "\n",
        "    # If courier status exists, explore delay signals\n",
        "    if \"Status\" in df.columns:\n",
        "        courier_summary = df.groupby(\"Status\").agg(\n",
        "            Orders=(\"Order ID\", \"count\") if \"Order ID\" in df.columns else (\"Qty\", \"size\"),\n",
        "            Units=(\"Qty\", \"sum\"),\n",
        "            Revenue=(\"Amount\", \"sum\")\n",
        "        ).sort_values(\"Orders\", ascending=False)\n",
        "        display(courier_summary)\n",
        "else:\n",
        "    print(\"Fulfilment column not present.\")\n"
      ],
      "metadata": {
        "id": "Ajzj-UiabWAO"
      },
      "execution_count": null,
      "outputs": []
    },
    {
      "cell_type": "markdown",
      "source": [
        "# Geographic Analysis (State / City)"
      ],
      "metadata": {
        "id": "9EKrPmwEu4ic"
      }
    },
    {
      "cell_type": "code",
      "source": [
        "\n",
        "# State-level performance\n",
        "if \"ship-state\" in df.columns:\n",
        "    state_summary = df.groupby(\"ship-state\").agg(\n",
        "        Orders=(\"Order ID\", \"count\") if \"Order ID\" in df.columns else (\"Qty\", \"size\"),\n",
        "        Units=(\"Qty\", \"sum\"),\n",
        "        Revenue=(\"Amount\", \"sum\")\n",
        "    ).sort_values(\"Revenue\", ascending=False).head(20)\n",
        "    display(state_summary)\n",
        "\n",
        "    plt.figure(figsize=(10,5))\n",
        "    plt.bar(state_summary.index.astype(str), state_summary[\"Revenue\"])\n",
        "    plt.title(\"Top States by Revenue\")\n",
        "    plt.xlabel(\"State\")\n",
        "    plt.ylabel(\"Revenue\")\n",
        "    plt.xticks(rotation=45, ha=\"right\")\n",
        "    plt.tight_layout()\n",
        "    plt.show()\n",
        "\n",
        "# City-level performance\n",
        "if \"ship-city\" in df.columns:\n",
        "    city_summary = df.groupby(\"ship-city\").agg(\n",
        "        Orders=(\"Order ID\", \"count\") if \"Order ID\" in df.columns else (\"Qty\", \"size\"),\n",
        "        Units=(\"Qty\", \"sum\"),\n",
        "        Revenue=(\"Amount\", \"sum\")\n",
        "    ).sort_values(\"Revenue\", ascending=False).head(20)\n",
        "    display(city_summary)\n",
        "\n",
        "    plt.figure(figsize=(10,5))\n",
        "    plt.bar(city_summary.index.astype(str), city_summary[\"Revenue\"])\n",
        "    plt.title(\"Top Cities by Revenue\")\n",
        "    plt.xlabel(\"City\")\n",
        "    plt.ylabel(\"Revenue\")\n",
        "    plt.xticks(rotation=45, ha=\"right\")\n",
        "    plt.tight_layout()\n",
        "    plt.show()\n"
      ],
      "metadata": {
        "id": "k97nGl7sfkqZ"
      },
      "execution_count": null,
      "outputs": []
    },
    {
      "source": [
        "# @title Revenue\n",
        "\n",
        "from matplotlib import pyplot as plt\n",
        "city_summary['Revenue'].plot(kind='line', figsize=(8, 4), title='Revenue')\n",
        "plt.gca().spines[['top', 'right']].set_visible(False)"
      ],
      "cell_type": "code",
      "execution_count": null,
      "outputs": [],
      "metadata": {
        "id": "GmuL0G70kBij"
      }
    },
    {
      "source": [
        "# @title Units\n",
        "\n",
        "from matplotlib import pyplot as plt\n",
        "state_summary['Units'].plot(kind='line', figsize=(8, 4), title='Units')\n",
        "plt.gca().spines[['top', 'right']].set_visible(False)"
      ],
      "cell_type": "code",
      "execution_count": null,
      "outputs": [],
      "metadata": {
        "id": "SO-koUAYjLhZ"
      }
    },
    {
      "source": [
        "# @title Orders\n",
        "\n",
        "from matplotlib import pyplot as plt\n",
        "state_summary['Orders'].plot(kind='line', figsize=(8, 4), title='Orders')\n",
        "plt.gca().spines[['top', 'right']].set_visible(False)"
      ],
      "cell_type": "code",
      "execution_count": null,
      "outputs": [],
      "metadata": {
        "id": "RV9ysTwPjBsD"
      }
    },
    {
      "cell_type": "markdown",
      "source": [
        "# Actionable Insights"
      ],
      "metadata": {
        "id": "qeRwrUSdvK2S"
      }
    },
    {
      "cell_type": "code",
      "source": [
        "\n",
        "insights = []\n",
        "\n",
        "# Time windows with spikes (top 3 revenue months)\n",
        "if \"Month\" in df.columns:\n",
        "    top_months = df.groupby(\"Month\")[\"Amount\"].sum().sort_values(ascending=False).head(3)\n",
        "    insights.append(f\"Top revenue months: {', '.join([f'{m} (₹{v:,.0f})' for m, v in top_months.items()])}.\")\n",
        "\n",
        "# Category drivers\n",
        "if \"Category\" in df.columns:\n",
        "    top_cats = df.groupby(\"Category\")[\"Amount\"].sum().sort_values(ascending=False).head(3)\n",
        "    insights.append(\"Top categories by revenue: \" + \", \".join([f\"{c} (₹{v:,.0f})\" for c, v in top_cats.items()]) + \".\")\n",
        "\n",
        "# Size preferences\n",
        "if \"Size\" in df.columns:\n",
        "    top_sizes = df.groupby(\"Size\")[\"Qty\"].sum().sort_values(ascending=False).head(3)\n",
        "    insights.append(\"Most sold sizes: \" + \", \".join([f\"{s} ({int(q)})\" for s, q in top_sizes.items()]) + \".\")\n",
        "\n",
        "# Fulfillment\n",
        "if \"Fulfilment\" in df.columns:\n",
        "    fulf_rev = df.groupby(\"Fulfilment\")[\"Amount\"].sum().sort_values(ascending=False)\n",
        "    best_fulfillment = fulf_rev.index[0] if len(fulf_rev) else None\n",
        "    if best_fulfillment:\n",
        "        insights.append(f\"'{best_fulfillment}' drives the highest revenue (₹{fulf_rev.iloc[0]:,.0f}). Consider prioritizing this method.\")\n",
        "\n",
        "# Geographic opportunities\n",
        "if \"ship-state\" in df.columns:\n",
        "    top_states = df.groupby(\"ship-state\")[\"Amount\"].sum().sort_values(ascending=False).head(5)\n",
        "    insights.append(\"Top states by revenue: \" + \", \".join([f\"{s} (₹{v:,.0f})\" for s, v in top_states.items()]) + \".\")\n",
        "\n",
        "# Cancellation/returns\n",
        "if \"cancel_return_rate_%\" in locals():\n",
        "    pass  # handled in KPI, but echoed below\n",
        "elif \"Status\" in df.columns:\n",
        "    cancel_like = df[\"Status\"].str.lower().isin([\"cancelled\", \"canceled\", \"return initiated\", \"returned\"])\n",
        "    cr = (cancel_like.mean() * 100) if len(df) else 0\n",
        "    insights.append(f\"Cancellation/return rate: {cr:.2f}% — investigate SKUs and couriers linked to these outcomes.\")\n",
        "\n",
        "# Convert to numbered list\n",
        "for i, line in enumerate(insights, 1):\n",
        "    print(f\"{i}. {line}\")\n"
      ],
      "metadata": {
        "id": "7oAXBvZmkGQD"
      },
      "execution_count": null,
      "outputs": []
    }
  ]
}